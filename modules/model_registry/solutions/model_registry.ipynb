{
 "cells": [
  {
   "cell_type": "code",
   "execution_count": 2,
   "metadata": {},
   "outputs": [
    {
     "name": "stdout",
     "output_type": "stream",
     "text": [
      "✅ Added notebook directory to Python path:\n",
      "   /workspaces/llmops-course/modules/model_registry/solutions\n",
      "   You can now import modules from this directory\n",
      "⚠️ Warning: Failed to set up notebook path\n",
      "🔄 Initializing Course environment...\n",
      "🔁 Autoreload enabled: modules will reload automatically when changed\n",
      "🔕 Suppressed future deprecation warnings\n",
      "📝 Logging configured\n",
      "📊 Pandas display settings configured for better output\n",
      "🔍 Looking for .env file at: /workspaces/llmops-course/.env\n",
      "✅ Successfully loaded environment variables from /workspaces/llmops-course/.env\n",
      "📋 Loaded variables: GEMINI_API_KEY=****sbqo\n",
      "⚙️ Disabled MLflow system metrics logging\n",
      "📔 Disabled MLflow notebook display (avoids VSCode bugs)\n",
      "\n",
      "================================================================================\n",
      "🎉 All systems go! Your Course environment is ready for learning!\n",
      "================================================================================\n"
     ]
    }
   ],
   "source": [
    "### 🚀 RUN ME BEFORE YOU START WORKING ON THIS NOTEBOOK ⚠️\n",
    "\n",
    "import helpers\n",
    "NOTEBOOK_PATH = __vsc_ipynb_file__ # type: ignore\n",
    "helpers.initialize(notebook_path=NOTEBOOK_PATH)\n",
    "\n",
    "### 🚀 RUN ME BEFORE YOU START WORKING ON THIS NOTEBOOK ⚠️"
   ]
  },
  {
   "cell_type": "code",
   "execution_count": 30,
   "metadata": {},
   "outputs": [],
   "source": [
    "MODEL_NAME = \"article_summarizer\"\n"
   ]
  },
  {
   "cell_type": "code",
   "execution_count": 31,
   "metadata": {},
   "outputs": [
    {
     "name": "stdout",
     "output_type": "stream",
     "text": [
      "✨ Model not found, we are ready to go! 🚀\n"
     ]
    }
   ],
   "source": [
    "import mlflow\n",
    "from mlflow.exceptions import RestException\n",
    "\n",
    "client = mlflow.tracking.MlflowClient()\n",
    "try:\n",
    "    client.delete_registered_model(name=MODEL_NAME)\n",
    "    print(\"✨ Model deleted and we are ready to go! 🚀\")\n",
    "except RestException as e:\n",
    "    if \"RESOURCE_DOES_NOT_EXIST\" in str(e):\n",
    "        print(\"✨ Model not found, we are ready to go! 🚀\") \n"
   ]
  },
  {
   "cell_type": "code",
   "execution_count": 32,
   "metadata": {},
   "outputs": [
    {
     "name": "stderr",
     "output_type": "stream",
     "text": [
      "2025/03/04 08:54:19 INFO mlflow.pyfunc: Validating input example against model signature\n",
      "2025/03/04 08:54:26 INFO mlflow.models.model: Found the following environment variables used during model inference: [GEMINI_API_KEY]. Please check if you need to set them when deploying the model. To disable this message, set environment variable `MLFLOW_RECORD_ENV_VARS_IN_MODEL_LOGGING` to `false`.\n",
      "Successfully registered model 'article_summarizer'.\n",
      "2025/03/04 08:54:26 INFO mlflow.store.model_registry.abstract_store: Waiting up to 300 seconds for model version to finish creation. Model name: article_summarizer, version 1\n"
     ]
    },
    {
     "name": "stdout",
     "output_type": "stream",
     "text": [
      "🏃 View run Article Summarizer at: http://localhost:5050/#/experiments/0/runs/8d24eeb4572d42479e6eb7c248578869\n",
      "🧪 View experiment at: http://localhost:5050/#/experiments/0\n"
     ]
    },
    {
     "name": "stderr",
     "output_type": "stream",
     "text": [
      "Created version '1' of model 'article_summarizer'.\n"
     ]
    }
   ],
   "source": [
    "import mlflow\n",
    "from textsummarizer import SerializableArticleSummarizerModel\n",
    "import pandas as pd\n",
    "import os\n",
    "\n",
    "path = 'assets/articles_full_length/ai_relationships.html'\n",
    "text = open(path).read()\n",
    "\n",
    "input_example = pd.DataFrame({'text': [text]})\n",
    "\n",
    "m = SerializableArticleSummarizerModel()\n",
    "\n",
    "with mlflow.start_run(run_name=\"Article Summarizer\") as run:\n",
    "     mlflow.pyfunc.log_model(\n",
    "        MODEL_NAME,\n",
    "        python_model=m,\n",
    "        input_example=input_example,\n",
    "        signature=mlflow.models.infer_signature(\n",
    "            input_example,\n",
    "            m.predict(input_example)\n",
    "        ),\n",
    "\n",
    "        code_paths=[os.path.dirname(__vsc_ipynb_file__)],\n",
    "        registered_model_name=\"article_summarizer\",\n",
    "    )\n"
   ]
  },
  {
   "cell_type": "code",
   "execution_count": 33,
   "metadata": {},
   "outputs": [
    {
     "name": "stdout",
     "output_type": "stream",
     "text": [
      "Model: article_summarizer,  Version: 1, Aliases: []\n",
      "Model URI: models://article_summarizer/1\n"
     ]
    }
   ],
   "source": [
    "client = mlflow.tracking.MlflowClient()\n",
    "model_version = client.get_latest_versions(\n",
    "    name=MODEL_NAME\n",
    ")[0]\n",
    "\n",
    "print(f\"Model: {model_version.name},  Version: {model_version.version}, Aliases: {model_version.aliases}\")\n",
    "model_uri = f\"models://{model_version.name}/{model_version.version}\"\n",
    "print(f\"Model URI: {model_uri}\")"
   ]
  },
  {
   "cell_type": "code",
   "execution_count": 34,
   "metadata": {},
   "outputs": [
    {
     "name": "stdout",
     "output_type": "stream",
     "text": [
      "Model article_summarizer version 1 set with 'test' alias\n"
     ]
    }
   ],
   "source": [
    "\n",
    "# Set the alias to \"production\" instead of using stages\n",
    "client.set_registered_model_alias(\n",
    "    name=model_version.name,\n",
    "    alias=\"test\",\n",
    "    version=model_version.version\n",
    ")\n",
    "\n",
    "print(f\"Model {model_version.name} version {model_version.version} set with 'test' alias\")\n"
   ]
  },
  {
   "cell_type": "code",
   "execution_count": 36,
   "metadata": {},
   "outputs": [
    {
     "name": "stdout",
     "output_type": "stream",
     "text": [
      "Model: article_summarizer,  Version: 1, Aliases: ['test']\n",
      "Model URI: models://article_summarizer/1\n"
     ]
    }
   ],
   "source": [
    "model_version = client.get_model_version_by_alias(\n",
    "    name=MODEL_NAME,\n",
    "    alias=\"test\"\n",
    ")\n",
    "\n",
    "print(f\"Model: {model_version.name},  Version: {model_version.version}, Aliases: {model_version.aliases}\")\n",
    "model_uri = f\"models://{model_version.name}/{model_version.version}\"\n",
    "print(f\"Model URI: {model_uri}\")\n"
   ]
  },
  {
   "cell_type": "markdown",
   "metadata": {},
   "source": [
    "Improve our model"
   ]
  },
  {
   "cell_type": "code",
   "execution_count": 37,
   "metadata": {},
   "outputs": [
    {
     "name": "stdout",
     "output_type": "stream",
     "text": [
      "Model article_summarizer version 1 promoted to production\n"
     ]
    }
   ],
   "source": [
    "# Remove test alias and set production alias\n",
    "client.delete_registered_model_alias(\n",
    "    name=MODEL_NAME,\n",
    "    alias=\"test\"\n",
    ")\n",
    "\n",
    "client.set_registered_model_alias(\n",
    "    name=MODEL_NAME,\n",
    "    alias=\"production\",\n",
    "    version=model_version.version\n",
    ")\n",
    "\n",
    "print(f\"Model {MODEL_NAME} version {model_version.version} promoted to production\")\n"
   ]
  },
  {
   "cell_type": "markdown",
   "metadata": {},
   "source": []
  },
  {
   "cell_type": "markdown",
   "metadata": {},
   "source": [
    "Let's improve our model"
   ]
  },
  {
   "cell_type": "code",
   "execution_count": 39,
   "metadata": {},
   "outputs": [
    {
     "name": "stderr",
     "output_type": "stream",
     "text": [
      "2025/03/04 09:01:12 INFO mlflow.pyfunc: Validating input example against model signature\n",
      "2025/03/04 09:01:18 INFO mlflow.models.model: Found the following environment variables used during model inference: [GEMINI_API_KEY]. Please check if you need to set them when deploying the model. To disable this message, set environment variable `MLFLOW_RECORD_ENV_VARS_IN_MODEL_LOGGING` to `false`.\n"
     ]
    },
    {
     "name": "stdout",
     "output_type": "stream",
     "text": [
      "🏃 View run Article Summarizer at: http://localhost:5050/#/experiments/0/runs/75107e8c68ba49878a04a1103cd3d2b2\n",
      "🧪 View experiment at: http://localhost:5050/#/experiments/0\n"
     ]
    }
   ],
   "source": [
    "import mlflow\n",
    "from textsummarizer import HTMLSummarizerModel\n",
    "import pandas as pd\n",
    "import os\n",
    "\n",
    "path = 'assets/articles_full_length/ai_relationships.html'\n",
    "text = open(path).read()\n",
    "\n",
    "input_example = pd.DataFrame({'text': [text]})\n",
    "\n",
    "m = HTMLSummarizerModel()\n",
    "\n",
    "\n",
    "with mlflow.start_run(run_name=\"Article Summarizer\") as run:\n",
    "    # ... do all the tests\n",
    "    model_info = mlflow.pyfunc.log_model(\n",
    "        MODEL_NAME,\n",
    "        python_model=m,\n",
    "        input_example=input_example,\n",
    "        signature=mlflow.models.infer_signature(\n",
    "            input_example,\n",
    "            m.predict(input_example)\n",
    "        ),\n",
    "\n",
    "        code_paths=[os.path.dirname(__vsc_ipynb_file__)],\n",
    "    )\n"
   ]
  },
  {
   "cell_type": "code",
   "execution_count": 44,
   "metadata": {},
   "outputs": [
    {
     "name": "stderr",
     "output_type": "stream",
     "text": [
      "Registered model 'article_summarizer' already exists. Creating a new version of this model...\n",
      "2025/03/04 09:02:42 INFO mlflow.store.model_registry.abstract_store: Waiting up to 300 seconds for model version to finish creation. Model name: article_summarizer, version 6\n"
     ]
    },
    {
     "name": "stdout",
     "output_type": "stream",
     "text": [
      "Run-based model URI: runs:/75107e8c68ba49878a04a1103cd3d2b2/article_summarizer\n",
      "Registry-based models URI: models://article_summarizer/6\n"
     ]
    },
    {
     "name": "stderr",
     "output_type": "stream",
     "text": [
      "Created version '6' of model 'article_summarizer'.\n"
     ]
    }
   ],
   "source": [
    "# Register the model version\n",
    "model_version = mlflow.register_model(\n",
    "    model_info.model_uri,\n",
    "    MODEL_NAME\n",
    ")\n",
    "\n",
    "print(f\"Run-based model URI: {model_info.model_uri}\")\n",
    "print(f\"Registry-based models URI: models://{MODEL_NAME}/{model_version.version}\")"
   ]
  },
  {
   "cell_type": "code",
   "execution_count": 45,
   "metadata": {},
   "outputs": [
    {
     "name": "stdout",
     "output_type": "stream",
     "text": [
      "Model version 6 is now marked as 'test'\n"
     ]
    }
   ],
   "source": [
    "# Promote the model to test\n",
    "client = mlflow.MlflowClient()\n",
    "client.set_registered_model_alias(MODEL_NAME, \"test\", model_version.version)\n",
    "\n",
    "# Validate the alias was set correctly\n",
    "test_version = client.get_model_version_by_alias(MODEL_NAME, \"test\")\n",
    "print(f\"Model version {test_version.version} is now marked as 'test'\")\n",
    "\n"
   ]
  },
  {
   "cell_type": "code",
   "execution_count": 48,
   "metadata": {},
   "outputs": [
    {
     "name": "stdout",
     "output_type": "stream",
     "text": [
      "Archived previous production model version 6\n",
      "Model version 6 is now marked as 'production'\n"
     ]
    }
   ],
   "source": [
    "# Archive the current production model if it exists\n",
    "try:\n",
    "    current_prod = client.get_model_version_by_alias(MODEL_NAME, \"production\")\n",
    "    client.set_registered_model_alias(MODEL_NAME, \"archived\", current_prod.version)\n",
    "    print(f\"Archived previous production model version {current_prod.version}\")\n",
    "except:\n",
    "    print(\"No previous production model found to archive\")\n",
    "\n",
    "# Promote test to production\n",
    "client.set_registered_model_alias(MODEL_NAME, \"production\", test_version.version)\n",
    "print(f\"Model version {test_version.version} is now marked as 'production'\")\n"
   ]
  },
  {
   "cell_type": "code",
   "execution_count": null,
   "metadata": {},
   "outputs": [],
   "source": []
  }
 ],
 "metadata": {
  "kernelspec": {
   "display_name": "Python 3",
   "language": "python",
   "name": "python3"
  },
  "language_info": {
   "codemirror_mode": {
    "name": "ipython",
    "version": 3
   },
   "file_extension": ".py",
   "mimetype": "text/x-python",
   "name": "python",
   "nbconvert_exporter": "python",
   "pygments_lexer": "ipython3",
   "version": "3.12.8"
  }
 },
 "nbformat": 4,
 "nbformat_minor": 2
}
