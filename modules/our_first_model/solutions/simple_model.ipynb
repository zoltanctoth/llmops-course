{
 "cells": [
  {
   "cell_type": "code",
   "execution_count": 8,
   "metadata": {},
   "outputs": [],
   "source": [
    "import helpers"
   ]
  },
  {
   "cell_type": "code",
   "execution_count": 9,
   "metadata": {},
   "outputs": [
    {
     "name": "stdout",
     "output_type": "stream",
     "text": [
      "ℹ️ Notebook directory already in Python path:\n",
      "   /workspaces/llmops-course/modules/our_first_model/starter\n",
      "⚠️ Warning: Failed to set up notebook path\n",
      "🔄 Environment already initialized. Skipping...\n"
     ]
    }
   ],
   "source": [
    "# You can call this function multiple times to reload the helpers module if GEMINI_API_KEY wasn't not set in .env file\n",
    "\n",
    "helpers.initialize(notebook_path=__vsc_ipynb_file__)"
   ]
  },
  {
   "cell_type": "markdown",
   "metadata": {},
   "source": [
    "Hello World, LLM style"
   ]
  },
  {
   "cell_type": "code",
   "execution_count": 3,
   "metadata": {},
   "outputs": [
    {
     "name": "stdout",
     "output_type": "stream",
     "text": [
      "Paris\n",
      "\n"
     ]
    }
   ],
   "source": [
    "import os \n",
    "import google.generativeai as genai\n",
    "\n",
    "api_key = os.getenv(\"GEMINI_API_KEY\")\n",
    "\n",
    "# Configure the API\n",
    "genai.configure(api_key=api_key)\n",
    "\n",
    "# Initialize the model\n",
    "model = genai.GenerativeModel(\"gemini-1.5-flash-8b\")\n",
    "\n",
    "# Generate response\n",
    "response = model.generate_content(\"What is the capital of France?\")\n",
    "\n",
    "# Print the response\n",
    "print(response.text)"
   ]
  },
  {
   "cell_type": "markdown",
   "metadata": {},
   "source": [
    "Let's create the simplest possible summarizer"
   ]
  },
  {
   "cell_type": "code",
   "execution_count": 4,
   "metadata": {},
   "outputs": [
    {
     "name": "stdout",
     "output_type": "stream",
     "text": [
      "AI chatbots, like Pi, are increasingly used for emotional support and navigating life's challenges.  People are using them to validate feelings, resolve conflicts, and manage stress, particularly when traditional mental health resources are unavailable or inaccessible.  The article highlights the experience of a busy professional who finds the chatbot comforting, supportive, and helpful in managing feelings of overwhelm and frustration.  While not replacing therapy, the AI serves as a supportive tool for self-reflection and emotional processing, much like journaling.\n",
      "\n"
     ]
    }
   ],
   "source": [
    "text = open(\"assets/articles_short/ai_relationships.html\", \"r\").read()\n",
    "\n",
    "# Generate response\n",
    "response = model.generate_content(\"summarize_this_text: \" + text)\n",
    "\n",
    "# Print the response\n",
    "print(response.text)\n"
   ]
  },
  {
   "cell_type": "markdown",
   "metadata": {},
   "source": [
    "Add it into a class so we can work with more structured code"
   ]
  },
  {
   "cell_type": "code",
   "execution_count": 13,
   "metadata": {},
   "outputs": [
    {
     "name": "stdout",
     "output_type": "stream",
     "text": [
      "AI chatbots are increasingly used for personal relationships, from mediating arguments to providing emotional support.  People are finding these tools helpful for navigating stress, dealing with overwhelming schedules, and processing emotions.  One user, a 52-year-old Canadian woman named Reshmi, describes using an AI chatbot like \"Pi\" as a sort of emotional support, a \"little friend in your pocket.\"  She finds it useful for venting and processing feelings, particularly helpful when therapy is inaccessible or expensive.  While AI chatbots may not replace traditional therapy, they offer a readily available alternative for emotional support and self-reflection.\n",
      "\n"
     ]
    }
   ],
   "source": [
    "from textsummarizer import TextSummarizer\n",
    "\n",
    "summarizer = TextSummarizer(prompt=\"summarize_this_text: {text}\")\n",
    "summary = summarizer.summarize(text)\n",
    "print(summary)"
   ]
  }
 ],
 "metadata": {
  "kernelspec": {
   "display_name": "Python 3",
   "language": "python",
   "name": "python3"
  },
  "language_info": {
   "codemirror_mode": {
    "name": "ipython",
    "version": 3
   },
   "file_extension": ".py",
   "mimetype": "text/x-python",
   "name": "python",
   "nbconvert_exporter": "python",
   "pygments_lexer": "ipython3",
   "version": "3.12.8"
  }
 },
 "nbformat": 4,
 "nbformat_minor": 2
}
